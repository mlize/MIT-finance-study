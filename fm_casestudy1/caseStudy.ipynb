{
 "cells": [
  {
   "cell_type": "code",
   "execution_count": 1,
   "metadata": {},
   "outputs": [],
   "source": [
    "import pandas as pd \n",
    "import numpy as np\n",
    "import seaborn as sns\n",
    "import matplotlib.pyplot as plt \n",
    "plt.style.use('ggplot')\n",
    "import statsmodels.api as sm\n",
    "from scipy import stats\n",
    "#from jupyterthemes import jtplot\n",
    "#jtplot.style(theme='monokai', context='notebook', ticks=True, grid=False)"
   ]
  },
  {
   "cell_type": "code",
   "execution_count": 2,
   "metadata": {},
   "outputs": [],
   "source": [
    "themes = plt.style.available"
   ]
  },
  {
   "cell_type": "markdown",
   "metadata": {},
   "source": [
    "This case study is based on the MIT [course](https://ocw.mit.edu/courses/mathematics/18-s096-topics-in-mathematics-with-applications-in-finance-fall-2013/case-studies/) Topics in Mathematics with Applications in Finance. "
   ]
  },
  {
   "cell_type": "code",
   "execution_count": 3,
   "metadata": {},
   "outputs": [
    {
     "name": "stdout",
     "output_type": "stream",
     "text": [
      "['Solarize_Light2', '_classic_test_patch', 'bmh', 'classic', 'dark_background', 'fast', 'fivethirtyeight', 'ggplot', 'grayscale', 'seaborn', 'seaborn-bright', 'seaborn-colorblind', 'seaborn-dark', 'seaborn-dark-palette', 'seaborn-darkgrid', 'seaborn-deep', 'seaborn-muted', 'seaborn-notebook', 'seaborn-paper', 'seaborn-pastel', 'seaborn-poster', 'seaborn-talk', 'seaborn-ticks', 'seaborn-white', 'seaborn-whitegrid', 'tableau-colorblind10']\n"
     ]
    }
   ],
   "source": [
    "print(themes)"
   ]
  },
  {
   "cell_type": "markdown",
   "metadata": {},
   "source": [
    "# Load the data: "
   ]
  },
  {
   "cell_type": "code",
   "execution_count": 2,
   "metadata": {},
   "outputs": [],
   "source": [
    "# rawData = pd.read_csv('rawData.csv')\n",
    "# load the Clean data\n",
    "cleanData = pd.read_csv('cleanData.csv').set_index('Date')"
   ]
  },
  {
   "cell_type": "code",
   "execution_count": 3,
   "metadata": {},
   "outputs": [],
   "source": [
    "# Transform the date index into a datetime object.\n",
    "cleanData.index = pd.to_datetime(cleanData.index,format='%Y-%m-%d')"
   ]
  },
  {
   "cell_type": "code",
   "execution_count": 4,
   "metadata": {},
   "outputs": [
    {
     "data": {
      "text/plain": [
       "Index(['DGS3MO', 'DGS1', 'DGS5', 'DGS10', 'DAAA', 'DBAA', 'DCOILWTICO', 'GE',\n",
       "       'BAC', 'XOM', 'S&P'],\n",
       "      dtype='object')"
      ]
     },
     "execution_count": 4,
     "metadata": {},
     "output_type": "execute_result"
    }
   ],
   "source": [
    "cleanData.columns"
   ]
  },
  {
   "cell_type": "code",
   "execution_count": 5,
   "metadata": {},
   "outputs": [],
   "source": [
    "fredData = cleanData[['DGS3MO','DGS1','DGS5','DGS10','DAAA','DBAA','DCOILWTICO']]"
   ]
  },
  {
   "cell_type": "code",
   "execution_count": 6,
   "metadata": {},
   "outputs": [
    {
     "data": {
      "text/html": [
       "<div>\n",
       "<style scoped>\n",
       "    .dataframe tbody tr th:only-of-type {\n",
       "        vertical-align: middle;\n",
       "    }\n",
       "\n",
       "    .dataframe tbody tr th {\n",
       "        vertical-align: top;\n",
       "    }\n",
       "\n",
       "    .dataframe thead th {\n",
       "        text-align: right;\n",
       "    }\n",
       "</style>\n",
       "<table border=\"1\" class=\"dataframe\">\n",
       "  <thead>\n",
       "    <tr style=\"text-align: right;\">\n",
       "      <th></th>\n",
       "      <th>DGS3MO</th>\n",
       "      <th>DGS1</th>\n",
       "      <th>DGS5</th>\n",
       "      <th>DGS10</th>\n",
       "      <th>DAAA</th>\n",
       "      <th>DBAA</th>\n",
       "      <th>DCOILWTICO</th>\n",
       "    </tr>\n",
       "    <tr>\n",
       "      <th>Date</th>\n",
       "      <th></th>\n",
       "      <th></th>\n",
       "      <th></th>\n",
       "      <th></th>\n",
       "      <th></th>\n",
       "      <th></th>\n",
       "      <th></th>\n",
       "    </tr>\n",
       "  </thead>\n",
       "  <tbody>\n",
       "    <tr>\n",
       "      <th>2000-01-03</th>\n",
       "      <td>5.48</td>\n",
       "      <td>6.09</td>\n",
       "      <td>6.50</td>\n",
       "      <td>6.58</td>\n",
       "      <td>7.75</td>\n",
       "      <td>8.27</td>\n",
       "      <td>NaN</td>\n",
       "    </tr>\n",
       "    <tr>\n",
       "      <th>2000-01-04</th>\n",
       "      <td>5.43</td>\n",
       "      <td>6.00</td>\n",
       "      <td>6.40</td>\n",
       "      <td>6.49</td>\n",
       "      <td>7.69</td>\n",
       "      <td>8.21</td>\n",
       "      <td>25.56</td>\n",
       "    </tr>\n",
       "    <tr>\n",
       "      <th>2000-01-05</th>\n",
       "      <td>5.44</td>\n",
       "      <td>6.05</td>\n",
       "      <td>6.51</td>\n",
       "      <td>6.62</td>\n",
       "      <td>7.78</td>\n",
       "      <td>8.29</td>\n",
       "      <td>24.65</td>\n",
       "    </tr>\n",
       "    <tr>\n",
       "      <th>2000-01-06</th>\n",
       "      <td>5.41</td>\n",
       "      <td>6.03</td>\n",
       "      <td>6.46</td>\n",
       "      <td>6.57</td>\n",
       "      <td>7.72</td>\n",
       "      <td>8.24</td>\n",
       "      <td>24.79</td>\n",
       "    </tr>\n",
       "    <tr>\n",
       "      <th>2000-01-07</th>\n",
       "      <td>5.38</td>\n",
       "      <td>6.00</td>\n",
       "      <td>6.42</td>\n",
       "      <td>6.52</td>\n",
       "      <td>7.69</td>\n",
       "      <td>8.22</td>\n",
       "      <td>24.79</td>\n",
       "    </tr>\n",
       "    <tr>\n",
       "      <th>...</th>\n",
       "      <td>...</td>\n",
       "      <td>...</td>\n",
       "      <td>...</td>\n",
       "      <td>...</td>\n",
       "      <td>...</td>\n",
       "      <td>...</td>\n",
       "      <td>...</td>\n",
       "    </tr>\n",
       "    <tr>\n",
       "      <th>2013-05-24</th>\n",
       "      <td>0.04</td>\n",
       "      <td>0.12</td>\n",
       "      <td>0.90</td>\n",
       "      <td>2.01</td>\n",
       "      <td>3.94</td>\n",
       "      <td>4.76</td>\n",
       "      <td>93.84</td>\n",
       "    </tr>\n",
       "    <tr>\n",
       "      <th>2013-05-28</th>\n",
       "      <td>0.05</td>\n",
       "      <td>0.13</td>\n",
       "      <td>1.02</td>\n",
       "      <td>2.15</td>\n",
       "      <td>4.06</td>\n",
       "      <td>4.88</td>\n",
       "      <td>94.65</td>\n",
       "    </tr>\n",
       "    <tr>\n",
       "      <th>2013-05-29</th>\n",
       "      <td>0.05</td>\n",
       "      <td>0.14</td>\n",
       "      <td>1.02</td>\n",
       "      <td>2.13</td>\n",
       "      <td>4.04</td>\n",
       "      <td>4.88</td>\n",
       "      <td>93.13</td>\n",
       "    </tr>\n",
       "    <tr>\n",
       "      <th>2013-05-30</th>\n",
       "      <td>0.04</td>\n",
       "      <td>0.13</td>\n",
       "      <td>1.01</td>\n",
       "      <td>2.13</td>\n",
       "      <td>4.06</td>\n",
       "      <td>4.90</td>\n",
       "      <td>93.57</td>\n",
       "    </tr>\n",
       "    <tr>\n",
       "      <th>2013-05-31</th>\n",
       "      <td>0.04</td>\n",
       "      <td>0.14</td>\n",
       "      <td>1.05</td>\n",
       "      <td>2.16</td>\n",
       "      <td>4.09</td>\n",
       "      <td>4.95</td>\n",
       "      <td>91.93</td>\n",
       "    </tr>\n",
       "  </tbody>\n",
       "</table>\n",
       "<p>3373 rows × 7 columns</p>\n",
       "</div>"
      ],
      "text/plain": [
       "            DGS3MO  DGS1  DGS5  DGS10  DAAA  DBAA  DCOILWTICO\n",
       "Date                                                         \n",
       "2000-01-03    5.48  6.09  6.50   6.58  7.75  8.27         NaN\n",
       "2000-01-04    5.43  6.00  6.40   6.49  7.69  8.21       25.56\n",
       "2000-01-05    5.44  6.05  6.51   6.62  7.78  8.29       24.65\n",
       "2000-01-06    5.41  6.03  6.46   6.57  7.72  8.24       24.79\n",
       "2000-01-07    5.38  6.00  6.42   6.52  7.69  8.22       24.79\n",
       "...            ...   ...   ...    ...   ...   ...         ...\n",
       "2013-05-24    0.04  0.12  0.90   2.01  3.94  4.76       93.84\n",
       "2013-05-28    0.05  0.13  1.02   2.15  4.06  4.88       94.65\n",
       "2013-05-29    0.05  0.14  1.02   2.13  4.04  4.88       93.13\n",
       "2013-05-30    0.04  0.13  1.01   2.13  4.06  4.90       93.57\n",
       "2013-05-31    0.04  0.14  1.05   2.16  4.09  4.95       91.93\n",
       "\n",
       "[3373 rows x 7 columns]"
      ]
     },
     "execution_count": 6,
     "metadata": {},
     "output_type": "execute_result"
    }
   ],
   "source": [
    "fredData"
   ]
  },
  {
   "cell_type": "code",
   "execution_count": 7,
   "metadata": {},
   "outputs": [
    {
     "data": {
      "text/html": [
       "<div>\n",
       "<style scoped>\n",
       "    .dataframe tbody tr th:only-of-type {\n",
       "        vertical-align: middle;\n",
       "    }\n",
       "\n",
       "    .dataframe tbody tr th {\n",
       "        vertical-align: top;\n",
       "    }\n",
       "\n",
       "    .dataframe thead th {\n",
       "        text-align: right;\n",
       "    }\n",
       "</style>\n",
       "<table border=\"1\" class=\"dataframe\">\n",
       "  <thead>\n",
       "    <tr style=\"text-align: right;\">\n",
       "      <th></th>\n",
       "      <th>GE</th>\n",
       "      <th>BAC</th>\n",
       "      <th>XOM</th>\n",
       "      <th>S&amp;P</th>\n",
       "    </tr>\n",
       "    <tr>\n",
       "      <th>Date</th>\n",
       "      <th></th>\n",
       "      <th></th>\n",
       "      <th></th>\n",
       "      <th></th>\n",
       "    </tr>\n",
       "  </thead>\n",
       "  <tbody>\n",
       "    <tr>\n",
       "      <th>2000-01-03</th>\n",
       "      <td>26.605433</td>\n",
       "      <td>14.021359</td>\n",
       "      <td>20.760025</td>\n",
       "      <td>1455.219971</td>\n",
       "    </tr>\n",
       "    <tr>\n",
       "      <th>2000-01-04</th>\n",
       "      <td>25.541218</td>\n",
       "      <td>13.189125</td>\n",
       "      <td>20.362385</td>\n",
       "      <td>1399.420044</td>\n",
       "    </tr>\n",
       "    <tr>\n",
       "      <th>2000-01-05</th>\n",
       "      <td>25.496870</td>\n",
       "      <td>13.333860</td>\n",
       "      <td>21.472454</td>\n",
       "      <td>1402.109985</td>\n",
       "    </tr>\n",
       "    <tr>\n",
       "      <th>2000-01-06</th>\n",
       "      <td>25.837751</td>\n",
       "      <td>14.473662</td>\n",
       "      <td>22.582546</td>\n",
       "      <td>1403.449951</td>\n",
       "    </tr>\n",
       "    <tr>\n",
       "      <th>2000-01-07</th>\n",
       "      <td>26.838230</td>\n",
       "      <td>14.093729</td>\n",
       "      <td>22.516262</td>\n",
       "      <td>1441.469971</td>\n",
       "    </tr>\n",
       "    <tr>\n",
       "      <th>...</th>\n",
       "      <td>...</td>\n",
       "      <td>...</td>\n",
       "      <td>...</td>\n",
       "      <td>...</td>\n",
       "    </tr>\n",
       "    <tr>\n",
       "      <th>2013-05-24</th>\n",
       "      <td>18.647718</td>\n",
       "      <td>11.744439</td>\n",
       "      <td>65.902351</td>\n",
       "      <td>1649.599976</td>\n",
       "    </tr>\n",
       "    <tr>\n",
       "      <th>2013-05-28</th>\n",
       "      <td>18.703194</td>\n",
       "      <td>11.842014</td>\n",
       "      <td>66.514366</td>\n",
       "      <td>1660.060059</td>\n",
       "    </tr>\n",
       "    <tr>\n",
       "      <th>2013-05-29</th>\n",
       "      <td>18.734898</td>\n",
       "      <td>11.957328</td>\n",
       "      <td>66.298370</td>\n",
       "      <td>1648.359985</td>\n",
       "    </tr>\n",
       "    <tr>\n",
       "      <th>2013-05-30</th>\n",
       "      <td>18.703194</td>\n",
       "      <td>12.267793</td>\n",
       "      <td>66.305550</td>\n",
       "      <td>1654.410034</td>\n",
       "    </tr>\n",
       "    <tr>\n",
       "      <th>2013-05-31</th>\n",
       "      <td>18.481295</td>\n",
       "      <td>12.116997</td>\n",
       "      <td>65.139130</td>\n",
       "      <td>1630.739990</td>\n",
       "    </tr>\n",
       "  </tbody>\n",
       "</table>\n",
       "<p>3373 rows × 4 columns</p>\n",
       "</div>"
      ],
      "text/plain": [
       "                   GE        BAC        XOM          S&P\n",
       "Date                                                    \n",
       "2000-01-03  26.605433  14.021359  20.760025  1455.219971\n",
       "2000-01-04  25.541218  13.189125  20.362385  1399.420044\n",
       "2000-01-05  25.496870  13.333860  21.472454  1402.109985\n",
       "2000-01-06  25.837751  14.473662  22.582546  1403.449951\n",
       "2000-01-07  26.838230  14.093729  22.516262  1441.469971\n",
       "...               ...        ...        ...          ...\n",
       "2013-05-24  18.647718  11.744439  65.902351  1649.599976\n",
       "2013-05-28  18.703194  11.842014  66.514366  1660.060059\n",
       "2013-05-29  18.734898  11.957328  66.298370  1648.359985\n",
       "2013-05-30  18.703194  12.267793  66.305550  1654.410034\n",
       "2013-05-31  18.481295  12.116997  65.139130  1630.739990\n",
       "\n",
       "[3373 rows x 4 columns]"
      ]
     },
     "execution_count": 7,
     "metadata": {},
     "output_type": "execute_result"
    }
   ],
   "source": [
    "stockData = cleanData[ ['GE','BAC', 'XOM', 'S&P']]\n",
    "stockData"
   ]
  },
  {
   "cell_type": "code",
   "execution_count": 8,
   "metadata": {},
   "outputs": [],
   "source": [
    "# Compute log daily log Returns ( we remove the first one)\n",
    "# Marlon: renamed df to conform to naming convention\n",
    "dailyStockReturns = np.log(stockData).diff()[1:]"
   ]
  },
  {
   "cell_type": "code",
   "execution_count": 9,
   "metadata": {},
   "outputs": [
    {
     "data": {
      "text/html": [
       "<div>\n",
       "<style scoped>\n",
       "    .dataframe tbody tr th:only-of-type {\n",
       "        vertical-align: middle;\n",
       "    }\n",
       "\n",
       "    .dataframe tbody tr th {\n",
       "        vertical-align: top;\n",
       "    }\n",
       "\n",
       "    .dataframe thead th {\n",
       "        text-align: right;\n",
       "    }\n",
       "</style>\n",
       "<table border=\"1\" class=\"dataframe\">\n",
       "  <thead>\n",
       "    <tr style=\"text-align: right;\">\n",
       "      <th></th>\n",
       "      <th>GE</th>\n",
       "      <th>BAC</th>\n",
       "      <th>XOM</th>\n",
       "      <th>S&amp;P</th>\n",
       "    </tr>\n",
       "    <tr>\n",
       "      <th>Date</th>\n",
       "      <th></th>\n",
       "      <th></th>\n",
       "      <th></th>\n",
       "      <th></th>\n",
       "    </tr>\n",
       "  </thead>\n",
       "  <tbody>\n",
       "    <tr>\n",
       "      <th>2000-01-04</th>\n",
       "      <td>-0.040822</td>\n",
       "      <td>-0.061189</td>\n",
       "      <td>-0.019340</td>\n",
       "      <td>-0.039099</td>\n",
       "    </tr>\n",
       "    <tr>\n",
       "      <th>2000-01-05</th>\n",
       "      <td>-0.001738</td>\n",
       "      <td>0.010914</td>\n",
       "      <td>0.053082</td>\n",
       "      <td>0.001920</td>\n",
       "    </tr>\n",
       "    <tr>\n",
       "      <th>2000-01-06</th>\n",
       "      <td>0.013281</td>\n",
       "      <td>0.082024</td>\n",
       "      <td>0.050406</td>\n",
       "      <td>0.000955</td>\n",
       "    </tr>\n",
       "    <tr>\n",
       "      <th>2000-01-07</th>\n",
       "      <td>0.037991</td>\n",
       "      <td>-0.026601</td>\n",
       "      <td>-0.002940</td>\n",
       "      <td>0.026730</td>\n",
       "    </tr>\n",
       "    <tr>\n",
       "      <th>2000-01-10</th>\n",
       "      <td>-0.000413</td>\n",
       "      <td>-0.035275</td>\n",
       "      <td>-0.014079</td>\n",
       "      <td>0.011128</td>\n",
       "    </tr>\n",
       "    <tr>\n",
       "      <th>...</th>\n",
       "      <td>...</td>\n",
       "      <td>...</td>\n",
       "      <td>...</td>\n",
       "      <td>...</td>\n",
       "    </tr>\n",
       "    <tr>\n",
       "      <th>2013-05-24</th>\n",
       "      <td>-0.005510</td>\n",
       "      <td>0.002269</td>\n",
       "      <td>-0.002837</td>\n",
       "      <td>-0.000552</td>\n",
       "    </tr>\n",
       "    <tr>\n",
       "      <th>2013-05-28</th>\n",
       "      <td>0.002970</td>\n",
       "      <td>0.008274</td>\n",
       "      <td>0.009244</td>\n",
       "      <td>0.006321</td>\n",
       "    </tr>\n",
       "    <tr>\n",
       "      <th>2013-05-29</th>\n",
       "      <td>0.001694</td>\n",
       "      <td>0.009691</td>\n",
       "      <td>-0.003253</td>\n",
       "      <td>-0.007073</td>\n",
       "    </tr>\n",
       "    <tr>\n",
       "      <th>2013-05-30</th>\n",
       "      <td>-0.001694</td>\n",
       "      <td>0.025633</td>\n",
       "      <td>0.000108</td>\n",
       "      <td>0.003664</td>\n",
       "    </tr>\n",
       "    <tr>\n",
       "      <th>2013-05-31</th>\n",
       "      <td>-0.011935</td>\n",
       "      <td>-0.012368</td>\n",
       "      <td>-0.017748</td>\n",
       "      <td>-0.014411</td>\n",
       "    </tr>\n",
       "  </tbody>\n",
       "</table>\n",
       "<p>3372 rows × 4 columns</p>\n",
       "</div>"
      ],
      "text/plain": [
       "                  GE       BAC       XOM       S&P\n",
       "Date                                              \n",
       "2000-01-04 -0.040822 -0.061189 -0.019340 -0.039099\n",
       "2000-01-05 -0.001738  0.010914  0.053082  0.001920\n",
       "2000-01-06  0.013281  0.082024  0.050406  0.000955\n",
       "2000-01-07  0.037991 -0.026601 -0.002940  0.026730\n",
       "2000-01-10 -0.000413 -0.035275 -0.014079  0.011128\n",
       "...              ...       ...       ...       ...\n",
       "2013-05-24 -0.005510  0.002269 -0.002837 -0.000552\n",
       "2013-05-28  0.002970  0.008274  0.009244  0.006321\n",
       "2013-05-29  0.001694  0.009691 -0.003253 -0.007073\n",
       "2013-05-30 -0.001694  0.025633  0.000108  0.003664\n",
       "2013-05-31 -0.011935 -0.012368 -0.017748 -0.014411\n",
       "\n",
       "[3372 rows x 4 columns]"
      ]
     },
     "execution_count": 9,
     "metadata": {},
     "output_type": "execute_result"
    }
   ],
   "source": [
    "dailyStockReturns"
   ]
  },
  {
   "cell_type": "code",
   "execution_count": 10,
   "metadata": {},
   "outputs": [],
   "source": [
    "# Compute daily return of the risk-free asset \n",
    "#     accounting for the number of days between successive closing prices\n",
    "#     apply annual interest rate using 360 days/year (standard on 360-day yearsince the previous close)\n",
    "diffDays = np.array([(cleanData['DGS3MO'].index[i+1] - cleanData['DGS3MO'].index[i]\n",
    "                    ).days for i in range(len(cleanData['DGS3MO'])-1 )])\n",
    "\n",
    "dailyRiskFree = np.log(1+ 0.01*cleanData['DGS3MO'][1:]*diffDays/360\n",
    "                      ).rename('Risk free')"
   ]
  },
  {
   "cell_type": "code",
   "execution_count": 11,
   "metadata": {},
   "outputs": [
    {
     "data": {
      "text/plain": [
       "Date\n",
       "2000-01-04    0.000151\n",
       "2000-01-05    0.000151\n",
       "2000-01-06    0.000150\n",
       "2000-01-07    0.000149\n",
       "2000-01-10    0.000452\n",
       "                ...   \n",
       "2013-05-24    0.000001\n",
       "2013-05-28    0.000006\n",
       "2013-05-29    0.000001\n",
       "2013-05-30    0.000001\n",
       "2013-05-31    0.000001\n",
       "Name: Risk free, Length: 3372, dtype: float64"
      ]
     },
     "execution_count": 11,
     "metadata": {},
     "output_type": "execute_result"
    }
   ],
   "source": [
    "dailyRiskFree"
   ]
  },
  {
   "cell_type": "code",
   "execution_count": 12,
   "metadata": {},
   "outputs": [],
   "source": [
    "dailyGEFree = (dailyStockReturns['GE'] - dailyRiskFree).rename('GE.free')\n",
    "dailySNPFree = (dailyStockReturns['S&P'] - dailyRiskFree).rename('S&P.free')"
   ]
  },
  {
   "cell_type": "code",
   "execution_count": 13,
   "metadata": {},
   "outputs": [
    {
     "data": {
      "text/html": [
       "<div>\n",
       "<style scoped>\n",
       "    .dataframe tbody tr th:only-of-type {\n",
       "        vertical-align: middle;\n",
       "    }\n",
       "\n",
       "    .dataframe tbody tr th {\n",
       "        vertical-align: top;\n",
       "    }\n",
       "\n",
       "    .dataframe thead th {\n",
       "        text-align: right;\n",
       "    }\n",
       "</style>\n",
       "<table border=\"1\" class=\"dataframe\">\n",
       "  <thead>\n",
       "    <tr style=\"text-align: right;\">\n",
       "      <th></th>\n",
       "      <th>GE</th>\n",
       "      <th>S&amp;P</th>\n",
       "      <th>Risk free</th>\n",
       "      <th>GE.free</th>\n",
       "      <th>S&amp;P.free</th>\n",
       "    </tr>\n",
       "    <tr>\n",
       "      <th>Date</th>\n",
       "      <th></th>\n",
       "      <th></th>\n",
       "      <th></th>\n",
       "      <th></th>\n",
       "      <th></th>\n",
       "    </tr>\n",
       "  </thead>\n",
       "  <tbody>\n",
       "    <tr>\n",
       "      <th>2000-01-04</th>\n",
       "      <td>-0.040822</td>\n",
       "      <td>-0.039099</td>\n",
       "      <td>0.000151</td>\n",
       "      <td>-0.040973</td>\n",
       "      <td>-0.039250</td>\n",
       "    </tr>\n",
       "    <tr>\n",
       "      <th>2000-01-05</th>\n",
       "      <td>-0.001738</td>\n",
       "      <td>0.001920</td>\n",
       "      <td>0.000151</td>\n",
       "      <td>-0.001889</td>\n",
       "      <td>0.001769</td>\n",
       "    </tr>\n",
       "    <tr>\n",
       "      <th>2000-01-06</th>\n",
       "      <td>0.013281</td>\n",
       "      <td>0.000955</td>\n",
       "      <td>0.000150</td>\n",
       "      <td>0.013131</td>\n",
       "      <td>0.000805</td>\n",
       "    </tr>\n",
       "    <tr>\n",
       "      <th>2000-01-07</th>\n",
       "      <td>0.037991</td>\n",
       "      <td>0.026730</td>\n",
       "      <td>0.000149</td>\n",
       "      <td>0.037841</td>\n",
       "      <td>0.026581</td>\n",
       "    </tr>\n",
       "    <tr>\n",
       "      <th>2000-01-10</th>\n",
       "      <td>-0.000413</td>\n",
       "      <td>0.011128</td>\n",
       "      <td>0.000452</td>\n",
       "      <td>-0.000865</td>\n",
       "      <td>0.010676</td>\n",
       "    </tr>\n",
       "    <tr>\n",
       "      <th>...</th>\n",
       "      <td>...</td>\n",
       "      <td>...</td>\n",
       "      <td>...</td>\n",
       "      <td>...</td>\n",
       "      <td>...</td>\n",
       "    </tr>\n",
       "    <tr>\n",
       "      <th>2013-05-24</th>\n",
       "      <td>-0.005510</td>\n",
       "      <td>-0.000552</td>\n",
       "      <td>0.000001</td>\n",
       "      <td>-0.005511</td>\n",
       "      <td>-0.000553</td>\n",
       "    </tr>\n",
       "    <tr>\n",
       "      <th>2013-05-28</th>\n",
       "      <td>0.002970</td>\n",
       "      <td>0.006321</td>\n",
       "      <td>0.000006</td>\n",
       "      <td>0.002965</td>\n",
       "      <td>0.006315</td>\n",
       "    </tr>\n",
       "    <tr>\n",
       "      <th>2013-05-29</th>\n",
       "      <td>0.001694</td>\n",
       "      <td>-0.007073</td>\n",
       "      <td>0.000001</td>\n",
       "      <td>0.001692</td>\n",
       "      <td>-0.007074</td>\n",
       "    </tr>\n",
       "    <tr>\n",
       "      <th>2013-05-30</th>\n",
       "      <td>-0.001694</td>\n",
       "      <td>0.003664</td>\n",
       "      <td>0.000001</td>\n",
       "      <td>-0.001695</td>\n",
       "      <td>0.003663</td>\n",
       "    </tr>\n",
       "    <tr>\n",
       "      <th>2013-05-31</th>\n",
       "      <td>-0.011935</td>\n",
       "      <td>-0.014411</td>\n",
       "      <td>0.000001</td>\n",
       "      <td>-0.011936</td>\n",
       "      <td>-0.014412</td>\n",
       "    </tr>\n",
       "  </tbody>\n",
       "</table>\n",
       "<p>3372 rows × 5 columns</p>\n",
       "</div>"
      ],
      "text/plain": [
       "                  GE       S&P  Risk free   GE.free  S&P.free\n",
       "Date                                                         \n",
       "2000-01-04 -0.040822 -0.039099   0.000151 -0.040973 -0.039250\n",
       "2000-01-05 -0.001738  0.001920   0.000151 -0.001889  0.001769\n",
       "2000-01-06  0.013281  0.000955   0.000150  0.013131  0.000805\n",
       "2000-01-07  0.037991  0.026730   0.000149  0.037841  0.026581\n",
       "2000-01-10 -0.000413  0.011128   0.000452 -0.000865  0.010676\n",
       "...              ...       ...        ...       ...       ...\n",
       "2013-05-24 -0.005510 -0.000552   0.000001 -0.005511 -0.000553\n",
       "2013-05-28  0.002970  0.006321   0.000006  0.002965  0.006315\n",
       "2013-05-29  0.001694 -0.007073   0.000001  0.001692 -0.007074\n",
       "2013-05-30 -0.001694  0.003664   0.000001 -0.001695  0.003663\n",
       "2013-05-31 -0.011935 -0.014411   0.000001 -0.011936 -0.014412\n",
       "\n",
       "[3372 rows x 5 columns]"
      ]
     },
     "execution_count": 13,
     "metadata": {},
     "output_type": "execute_result"
    }
   ],
   "source": [
    "pd.concat([dailyStockReturns[['GE','S&P']],\n",
    "           dailyRiskFree,\n",
    "           dailyGEFree,\n",
    "           dailySNPFree],axis=1)"
   ]
  },
  {
   "cell_type": "code",
   "execution_count": 14,
   "metadata": {},
   "outputs": [
    {
     "data": {
      "text/plain": [
       "Date\n",
       "2000-01-04   -0.039250\n",
       "2000-01-11   -0.013299\n",
       "2000-01-12   -0.004547\n",
       "2000-01-18   -0.007473\n",
       "2000-01-20   -0.007273\n",
       "                ...   \n",
       "2013-05-22   -0.008309\n",
       "2013-05-23   -0.002930\n",
       "2013-05-24   -0.000553\n",
       "2013-05-29   -0.007074\n",
       "2013-05-31   -0.014412\n",
       "Name: S&P.free, Length: 1597, dtype: float64"
      ]
     },
     "execution_count": 14,
     "metadata": {},
     "output_type": "execute_result"
    }
   ],
   "source": [
    "dailySNPFree[dailySNPFree<0]"
   ]
  },
  {
   "cell_type": "code",
   "execution_count": 15,
   "metadata": {},
   "outputs": [],
   "source": [
    "# Playing with the sns plot: "
   ]
  },
  {
   "cell_type": "code",
   "execution_count": 16,
   "metadata": {},
   "outputs": [
    {
     "data": {
      "image/png": "[encoded data removed]",
      "text/plain": [
       "<Figure size 576x576 with 1 Axes>"
      ]
     },
     "metadata": {},
     "output_type": "display_data"
    }
   ],
   "source": [
    "plt.figure(figsize=(8,8))\n",
    "# Marlon: adding a semi-colon at the end of a plot statement prevents matplotlib from\n",
    "# printing the object's location in memory. \n",
    "sns.scatterplot(y = dailyGEFree,\n",
    "                x = dailySNPFree,\n",
    "                color='black'\n",
    "               );"
   ]
  },
  {
   "cell_type": "code",
   "execution_count": 17,
   "metadata": {},
   "outputs": [],
   "source": [
    "# Marlon: this seems unnecessary\n",
    "# plt.figure(figsize=(8,8))\n",
    "# sns.lineplot(x=GE_daily_free,y= 0.4*GE_daily_free,color='green',label='y=0.4x+1')\n",
    "# sns.scatterplot(x=GE_daily_free,y=SNP_daily_free,color='black',legend='')\n",
    "# sns.scatterplot(x = GE_daily_free[GE_daily_free<0],y=SNP_daily_free[SNP_daily_free<0],color='red',label='red')\n",
    "# sns.scatterplot(x = GE_daily_free[GE_daily_free<0],y=SNP_daily_free[SNP_daily_free>0.1],color='blue',label='blue')"
   ]
  },
  {
   "cell_type": "code",
   "execution_count": 18,
   "metadata": {},
   "outputs": [],
   "source": [
    "#################################################################################################################################### \n",
    "# FITTING A LINEAR REGRESSION USING STATS MODELS ( For Marlon)\n",
    "###################################################################################################################################"
   ]
  },
  {
   "cell_type": "markdown",
   "metadata": {},
   "source": [
    "Stats Models [documentations](https://www.statsmodels.org/stable/generated/statsmodels.regression.linear_model.OLS.html)."
   ]
  },
  {
   "cell_type": "markdown",
   "metadata": {},
   "source": [
    "# CAPM \n",
    " Sharpe (1964) and Lintner (1965) developed the Capital Asset Pricing Model for a market in which investors have the same expectations, hold portfolios of risky assets that are mean-variance efficient, and can borrow and lend money freely at the same risk-free rate.\n",
    " The expected return of asset j is : \n",
    "\n",
    " $$ E[R_j] = R_{riskfree} + \\beta_j (E[R_{market}] - R_{riskfree} ) $$  where $$\\beta_j   = \\frac{Cov(R_j,Risk_{market})}{Var(R_{market})}$$\n",
    " \n",
    " where $R_{Market}$ is the return on the market portfolio and $R_{riskfree}$ is the return on the risk-free asset. \n",
    " Consider fitting the simple linear regression model of a stock’s daily excess return on the market-portfolio daily excess return, using the S&P 500 Index as the proxy for the market return and the 3-month Treasury constant maturity rate as the risk-free rate. The linear model is given by: \n",
    " \n",
    " $$ R^{*}_{j,t}  = \\alpha_j + \\beta_j R^{*}_{market,t} + \\epsilon_{j,t} $$ where $$\\epsilon_{j,t}  $$ are gaussian white noise.\n",
    "\n",
    " Under the assumptions of the CAPM, the regression parameters $(\\alpha_j , \\beta_j )$ are such that $\\beta_j$ is the same as in the CAPM model, and $\\alpha_j$ is zero"
   ]
  },
  {
   "cell_type": "code",
   "execution_count": 19,
   "metadata": {},
   "outputs": [],
   "source": [
    "# Marlon: fixed incorrect order of x and y\n",
    "x , y = np.array(dailySNPFree), np.array(dailyGEFree)\n",
    "x = sm.add_constant(x)\n",
    "\n",
    "model = sm.OLS(y,x)\n",
    "results = model.fit()"
   ]
  },
  {
   "cell_type": "code",
   "execution_count": 20,
   "metadata": {},
   "outputs": [
    {
     "data": {
      "text/plain": [
       "array([-1.32562916e-04,  1.18439846e+00])"
      ]
     },
     "execution_count": 20,
     "metadata": {},
     "output_type": "execute_result"
    }
   ],
   "source": [
    "# This is printed in the results summary below and is unnecessary. \n",
    "# Move it to the plot of regression line below. \n",
    "results.params"
   ]
  },
  {
   "cell_type": "code",
   "execution_count": 21,
   "metadata": {},
   "outputs": [
    {
     "name": "stdout",
     "output_type": "stream",
     "text": [
      "                            OLS Regression Results                            \n",
      "==============================================================================\n",
      "Dep. Variable:                      y   R-squared:                       0.568\n",
      "Model:                            OLS   Adj. R-squared:                  0.568\n",
      "Method:                 Least Squares   F-statistic:                     4432.\n",
      "Date:                Mon, 15 Feb 2021   Prob (F-statistic):               0.00\n",
      "Time:                        03:32:37   Log-Likelihood:                 9659.1\n",
      "No. Observations:                3372   AIC:                        -1.931e+04\n",
      "Df Residuals:                    3370   BIC:                        -1.930e+04\n",
      "Df Model:                           1                                         \n",
      "Covariance Type:            nonrobust                                         \n",
      "==============================================================================\n",
      "                 coef    std err          t      P>|t|      [0.025      0.975]\n",
      "------------------------------------------------------------------------------\n",
      "const         -0.0001      0.000     -0.558      0.577      -0.001       0.000\n",
      "x1             1.1844      0.018     66.572      0.000       1.150       1.219\n",
      "==============================================================================\n",
      "Omnibus:                      781.711   Durbin-Watson:                   1.992\n",
      "Prob(Omnibus):                  0.000   Jarque-Bera (JB):            40797.880\n",
      "Skew:                          -0.039   Prob(JB):                         0.00\n",
      "Kurtosis:                      20.040   Cond. No.                         74.9\n",
      "==============================================================================\n",
      "\n",
      "Notes:\n",
      "[1] Standard Errors assume that the covariance matrix of the errors is correctly specified.\n"
     ]
    }
   ],
   "source": [
    "print(results.summary())"
   ]
  },
  {
   "cell_type": "markdown",
   "metadata": {},
   "source": [
    "The t-statistic for the intercept is non-significant at a 95% confidence level, so we fail to reject the null hypothesis that $\\alpha$ = 0."
   ]
  },
  {
   "cell_type": "markdown",
   "metadata": {},
   "source": [
    "### Regression diagnostics\n",
    "\n",
    "We will diagnose the regression fit based on two measures:\n",
    "* an analysis of variance (ANOVA), detailing the computation of the F-statistic for no regression structure\n",
    "* a study of influcence measures, evaluation case influence for the linear regression model;"
   ]
  },
  {
   "cell_type": "code",
   "execution_count": 22,
   "metadata": {},
   "outputs": [
    {
     "data": {
      "text/plain": [
       "<AxesSubplot:xlabel='S&P.free', ylabel='GE.free'>"
      ]
     },
     "execution_count": 22,
     "metadata": {},
     "output_type": "execute_result"
    },
    {
     "data": {
      "image/png": "[encoded data removed]",
      "text/plain": [
       "<Figure size 432x288 with 1 Axes>"
      ]
     },
     "metadata": {},
     "output_type": "display_data"
    }
   ],
   "source": [
    "# The chosen theme does not print a good model on reg plot\n",
    "sns.regplot(x = dailySNPFree, y = dailyGEFree)"
   ]
  },
  {
   "cell_type": "code",
   "execution_count": 23,
   "metadata": {},
   "outputs": [
    {
     "data": {
      "image/png": "[encoded data removed]",
      "text/plain": [
       "<Figure size 864x648 with 1 Axes>"
      ]
     },
     "metadata": {},
     "output_type": "display_data"
    }
   ],
   "source": [
    "alpha, beta = results.params\n",
    "plt.figure(figsize = (12,9))\n",
    "sns.lineplot(x = dailySNPFree,\n",
    "             y = alpha + beta*dailySNPFree,\n",
    "             color = 'red',\n",
    "             label = 'OLS fit'\n",
    "            )\n",
    "sns.scatterplot(y = dailyGEFree,\n",
    "                x = dailySNPFree,\n",
    "                color='black'\n",
    "               );\n",
    "plt.title('GE vs SP500 risk adjusted returns');"
   ]
  },
  {
   "cell_type": "code",
   "execution_count": 24,
   "metadata": {},
   "outputs": [],
   "source": [
    "# sm.stats.anova_lm(results,typ=2)"
   ]
  },
  {
   "cell_type": "code",
   "execution_count": 25,
   "metadata": {},
   "outputs": [],
   "source": [
    "# sm.stats.anova_lm?"
   ]
  },
  {
   "cell_type": "markdown",
   "metadata": {},
   "source": [
    "#### Influence measures"
   ]
  },
  {
   "cell_type": "markdown",
   "metadata": {},
   "source": [
    "influence = results.get_influence()\n",
    "influenceDf = influence.summary_frame()\n",
    "influenceDf.index = dailySNPFree.index\n",
    "influenceDf\n",
    "\n",
    "Let $H = X(X^{T}X)^{-1}X^{T}$ denote the projection matrix of the least squares model. The leverage score for the i-th observation is defined as $h_{i} = H_{ii}$. These elements are listed in the hat_diag column of the influence dataframe. Below we plot their time-series. "
   ]
  },
  {
   "cell_type": "markdown",
   "metadata": {},
   "source": [
    "A point is considered high-leveraged if its leverage is above \n",
    "$$ \\frac{(2p+2)}{n}$$"
   ]
  },
  {
   "cell_type": "code",
   "execution_count": 26,
   "metadata": {},
   "outputs": [
    {
     "ename": "NameError",
     "evalue": "name 'influenceDf' is not defined",
     "output_type": "error",
     "traceback": [
      "\u001b[0;31m---------------------------------------------------------------------------\u001b[0m",
      "\u001b[0;31mNameError\u001b[0m                                 Traceback (most recent call last)",
      "\u001b[0;32m<ipython-input-26-9f781335fb96>\u001b[0m in \u001b[0;36m<module>\u001b[0;34m\u001b[0m\n\u001b[1;32m      1\u001b[0m \u001b[0mleverage_threshold\u001b[0m \u001b[0;34m=\u001b[0m \u001b[0;34m(\u001b[0m\u001b[0;36m2\u001b[0m\u001b[0;34m*\u001b[0m\u001b[0;36m2\u001b[0m\u001b[0;34m+\u001b[0m\u001b[0;36m2\u001b[0m\u001b[0;34m)\u001b[0m\u001b[0;34m/\u001b[0m\u001b[0mlen\u001b[0m\u001b[0;34m(\u001b[0m\u001b[0mdailyGEFree\u001b[0m\u001b[0;34m)\u001b[0m\u001b[0;34m\u001b[0m\u001b[0;34m\u001b[0m\u001b[0m\n\u001b[0;32m----> 2\u001b[0;31m \u001b[0minfluenceDf\u001b[0m\u001b[0;34m[\u001b[0m\u001b[0;34m'high leverage'\u001b[0m\u001b[0;34m]\u001b[0m \u001b[0;34m=\u001b[0m \u001b[0;34m(\u001b[0m\u001b[0minfluenceDf\u001b[0m\u001b[0;34m[\u001b[0m\u001b[0;34m'hat_diag'\u001b[0m\u001b[0;34m]\u001b[0m\u001b[0;34m>\u001b[0m \u001b[0mleverage_threshold\u001b[0m\u001b[0;34m)\u001b[0m\u001b[0;34m\u001b[0m\u001b[0;34m\u001b[0m\u001b[0m\n\u001b[0m\u001b[1;32m      3\u001b[0m \u001b[0minfluenceDf\u001b[0m\u001b[0;34m\u001b[0m\u001b[0;34m\u001b[0m\u001b[0m\n",
      "\u001b[0;31mNameError\u001b[0m: name 'influenceDf' is not defined"
     ]
    }
   ],
   "source": [
    "leverage_threshold = (2*2+2)/len(dailyGEFree)\n",
    "influenceDf['high leverage'] = (influenceDf['hat_diag']> leverage_threshold)\n",
    "influenceDf"
   ]
  },
  {
   "cell_type": "code",
   "execution_count": null,
   "metadata": {},
   "outputs": [],
   "source": [
    "plt.figure(figsize = (12,9))\n",
    "sns.lineplot(x = dailySNPFree.index,\n",
    "             y = leverage_threshold,\n",
    "             color = 'red',\n",
    "             dashes = True,\n",
    "             label = 'High leverage'\n",
    "            )\n",
    "sns.lineplot(y = influenceDf['hat_diag'],\n",
    "                x = dailySNPFree.index,\n",
    "                color = 'black')\n",
    "plt.title(\"Risk adjuted GE vs SNP\")\n",
    "plt.ylabel(\"Leverage scores\")\n",
    "plt.legend();"
   ]
  },
  {
   "cell_type": "markdown",
   "metadata": {},
   "source": [
    "<a href = \"https://en.wikipedia.org/wiki/Cook%27s_distance\" target = \"_blank\"> Cook's distance</a> is a measure of influence accounting for the effect of deleting a given observation. \n",
    "\n",
    "Consider a regression model \n",
    "$$ y = X\\beta + \\epsilon,$$\n",
    "where \n",
    "* $y$ is an $n \\times 1$ response vector;\n",
    "* $X$ is an $n \\times p$ design matrix;\n",
    "* $\\beta$ is a $p \\times 1$ coefficient matrix; \n",
    "* $\\epsilon$ is a random vector distributed as $\\epsilon \\sim N(0, \\sigma^2 I_n)$.\n",
    "\n",
    "Let $H = X(X^{T}X)^{-1}X^{T}$ be the projection matrix as above, $\\mathbf{y}$ the observed values of a dependent random variable, $\\widehat{\\mathbf{y}}$ the predicted values, $\\widehat{\\mathbf{y}} = H\\mathbf{y}$, and denote by $\\mathbf{e} = (I-H)\\mathbf{y}$ the residual vector. We also denote by $\\widehat{\\mathbf{y}}_{i}$ the fitted response variable when the $i$-th observation is removed from the dataset. Then we define Cook's distance as \n",
    "$$D_i = \\frac{\\| \\widehat{\\mathbf{y}} - \\widehat{\\mathbf{y}}_{i}\\|^{2}}{p*\\mathrm{MSE}},$$\n",
    "where $\\| \\cdot \\|$ is the l^2 norm, $p$ is the number of coefficients in the regression, and $\\mathrm{MSE}$ stands for the mean squared error:\n",
    "$$ \\mathrm{MSE} = \\frac{\\|e\\|^2}{n-p}.$$\n",
    "We define an observation as influential relative to Cook's distance if its distance is at least the median point of an <a href = \"https://en.wikipedia.org/wiki/F-distribution\" target = \"_blank\">$F$-distribution </a> with $(p,n-p)$ degrees of freedom."
   ]
  },
  {
   "cell_type": "code",
   "execution_count": null,
   "metadata": {},
   "outputs": [],
   "source": [
    "cooks_threshold = stats.f.ppf(0.5, 2, len(dailyGEFree) - 2)\n",
    "influenceDf['high cooks distance'] = (influenceDf['cooks_d'] > cooks_threshold)\n",
    "plt.figure(figsize = (12,9))\n",
    "sns.lineplot(x = dailySNPFree.index,\n",
    "             y = cooks_threshold,\n",
    "             color = 'red',\n",
    "             dashes = True,\n",
    "             label = \"Cook's threshold\"\n",
    "            )\n",
    "sns.lineplot(y = influenceDf['cooks_d'],\n",
    "                x = dailySNPFree.index,\n",
    "                color = 'black');\n",
    "plt.ylabel(\"Cook's distances\")\n",
    "plt.title(\"Risk adjuted GE vs SNP\")\n",
    "plt.legend();"
   ]
  },
  {
   "cell_type": "code",
   "execution_count": null,
   "metadata": {},
   "outputs": [],
   "source": [
    "plt.figure(figsize = (12,9))\n",
    "sns.lineplot(x = dailySNPFree,\n",
    "             y = alpha + beta*dailySNPFree,\n",
    "             color = 'green',\n",
    "             label = 'OLS fit'\n",
    "            )\n",
    "sns.scatterplot(y = dailyGEFree,\n",
    "                x = dailySNPFree,\n",
    "                hue = influenceDf['high leverage'],\n",
    "                style = influenceDf['high cooks distance']\n",
    "               );\n",
    "\n",
    "plt.title('GE vs SP500 risk adjusted returns');"
   ]
  },
  {
   "cell_type": "code",
   "execution_count": 33,
   "metadata": {},
   "outputs": [
    {
     "data": {
      "text/plain": [
       "3372"
      ]
     },
     "execution_count": 33,
     "metadata": {},
     "output_type": "execute_result"
    }
   ],
   "source": [
    "len(dailyGEFree)"
   ]
  },
  {
   "cell_type": "code",
   "execution_count": 36,
   "metadata": {},
   "outputs": [
    {
     "data": {
      "text/plain": [
       "0.693289767772602"
      ]
     },
     "execution_count": 36,
     "metadata": {},
     "output_type": "execute_result"
    }
   ],
   "source": [
    "stats.f.ppf(0.5, 2, len(dailyGEFree) - 2)"
   ]
  },
  {
   "cell_type": "markdown",
   "metadata": {},
   "source": [
    "#### "
   ]
  }
 ],
 "metadata": {
  "kernelspec": {
   "display_name": "Python 3",
   "language": "python",
   "name": "python3"
  },
  "language_info": {
   "codemirror_mode": {
    "name": "ipython",
    "version": 3
   },
   "file_extension": ".py",
   "mimetype": "text/x-python",
   "name": "python",
   "nbconvert_exporter": "python",
   "pygments_lexer": "ipython3",
   "version": "3.8.5"
  }
 },
 "nbformat": 4,
 "nbformat_minor": 2
}
